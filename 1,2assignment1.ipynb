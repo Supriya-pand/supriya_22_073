{
  "nbformat": 4,
  "nbformat_minor": 0,
  "metadata": {
    "colab": {
      "provenance": [],
      "authorship_tag": "ABX9TyNrOc1aelMJxn4aPH49rukS",
      "include_colab_link": true
    },
    "kernelspec": {
      "name": "python3",
      "display_name": "Python 3"
    },
    "language_info": {
      "name": "python"
    }
  },
  "cells": [
    {
      "cell_type": "markdown",
      "metadata": {
        "id": "view-in-github",
        "colab_type": "text"
      },
      "source": [
        "<a href=\"https://colab.research.google.com/github/Supriya-pand/supriya_22_073/blob/main/1%2C2assignment1.ipynb\" target=\"_parent\"><img src=\"https://colab.research.google.com/assets/colab-badge.svg\" alt=\"Open In Colab\"/></a>"
      ]
    },
    {
      "cell_type": "code",
      "execution_count": null,
      "metadata": {
        "colab": {
          "base_uri": "https://localhost:8080/"
        },
        "id": "zA6MZSRnY5Jk",
        "outputId": "15d20ad3-04f1-418c-89c4-c3c9d98d5d8b"
      },
      "outputs": [
        {
          "output_type": "stream",
          "name": "stdout",
          "text": [
            "Enter b:12\n",
            "Enter h:4\n",
            "Area of a triangle is= 24.0\n",
            "Enter a:6\n",
            "Enter b:7\n",
            "Enter c:8\n",
            "perimeter of a triangle is= 336\n"
          ]
        }
      ],
      "source": [
        "#Triangle area\n",
        "b=int(input('Enter b:'))\n",
        "h=int(input('Enter h:'))\n",
        "area=0.5*b*h\n",
        "print('Area of a triangle is=',area)\n",
        "#Triangle perimeter\n",
        "a=int(input('Enter a:'))\n",
        "b=int(input('Enter b:'))\n",
        "c=int(input('Enter c:'))\n",
        "perimeter=a*b*c\n",
        "print('perimeter of a triangle is=',perimeter)"
      ]
    },
    {
      "cell_type": "code",
      "source": [
        "#Rectangle area\n",
        "b=int(input('Enter b:'))\n",
        "l=int(input('Enter l:'))\n",
        "area=l*b\n",
        "print('Area of a rectangle is=',area)\n",
        "#Rectangle perimeter\n",
        "a=int(input('Enter a:'))\n",
        "b=int(input('Enter b:'))\n",
        "perimeter=2*(a+b)\n",
        "print('perimeter of a rectangle is=',perimeter)"
      ],
      "metadata": {
        "colab": {
          "base_uri": "https://localhost:8080/"
        },
        "id": "NqyrJNXfbreG",
        "outputId": "c667d739-d6a8-44a5-8755-6eb9f5861970"
      },
      "execution_count": null,
      "outputs": [
        {
          "output_type": "stream",
          "name": "stdout",
          "text": [
            "Enter b:5\n",
            "Enter l:6\n",
            "Area of a rectangle is= 30\n",
            "Enter a:3\n",
            "Enter b:2\n",
            "perimeter of a rectangle is= 10\n"
          ]
        }
      ]
    }
  ]
}