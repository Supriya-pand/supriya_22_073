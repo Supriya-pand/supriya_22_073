{
  "nbformat": 4,
  "nbformat_minor": 0,
  "metadata": {
    "colab": {
      "provenance": [],
      "authorship_tag": "ABX9TyOWWQRsS4X8qjthJM83wydq",
      "include_colab_link": true
    },
    "kernelspec": {
      "name": "python3",
      "display_name": "Python 3"
    },
    "language_info": {
      "name": "python"
    }
  },
  "cells": [
    {
      "cell_type": "markdown",
      "metadata": {
        "id": "view-in-github",
        "colab_type": "text"
      },
      "source": [
        "<a href=\"https://colab.research.google.com/github/Supriya-pand/supriya_22_073/blob/main/3_to_13_assignment1.ipynb\" target=\"_parent\"><img src=\"https://colab.research.google.com/assets/colab-badge.svg\" alt=\"Open In Colab\"/></a>"
      ]
    },
    {
      "cell_type": "code",
      "execution_count": null,
      "metadata": {
        "colab": {
          "base_uri": "https://localhost:8080/"
        },
        "id": "xlLnsfYWjiG2",
        "outputId": "88294c26-2ec9-44f0-862e-3e4311c777e1"
      },
      "outputs": [
        {
          "output_type": "stream",
          "name": "stdout",
          "text": [
            "Enter s:30 \n",
            "volume of a cube is= 900\n",
            "Enter s:10\n",
            "surface area of a cube is= 600\n"
          ]
        }
      ],
      "source": [
        "#Cube volume\n",
        "s=int(input('Enter s:'))\n",
        "volume=s*s\n",
        "print('volume of a cube is=',volume)\n",
        "#Cube surface area\n",
        "s=int(input('Enter s:'))\n",
        "surface_area=6*s*s\n",
        "print('surface area of a cube is=',surface_area)"
      ]
    },
    {
      "cell_type": "code",
      "source": [
        "#Cuboid volume\n",
        "l=int(input('Enter l:'))\n",
        "w=int(input('Enter w:'))\n",
        "h=int(input('Enter h:'))\n",
        "volume=l*w*h\n",
        "print('volume of a cuboid is=',volume)\n",
        "#Cuboid surface area\n",
        "l=int(input('Enter l:'))\n",
        "w=int(input('Enter w:'))\n",
        "h=int(input('Enter h:'))\n",
        "surface_area=(2*l*h)+(2*l*w)+(2*w*h)\n",
        "print('surface area of a cuboid is=',surface_area)"
      ],
      "metadata": {
        "colab": {
          "base_uri": "https://localhost:8080/"
        },
        "id": "IbWoOiG9ntzh",
        "outputId": "a5e81f74-6db8-45d5-d60a-0665135b0139"
      },
      "execution_count": null,
      "outputs": [
        {
          "output_type": "stream",
          "name": "stdout",
          "text": [
            "Enter l:2\n",
            "Enter w:3\n",
            "Enter h:4\n",
            "volume of a cuboid is= 24\n",
            "Enter l:6\n",
            "Enter w:4\n",
            "Enter h:2\n",
            "surface area of a cuboid is= 88\n"
          ]
        }
      ]
    },
    {
      "cell_type": "code",
      "source": [
        "#Regular tetrahedron volume\n",
        "import math\n",
        "b=int(input('Enter b:'))\n",
        "volume=(b*b*b)/(6*math.sqrt(2))\n",
        "print('volume of a regular tetrahedron is=',volume)\n",
        "#Regular tetrahedron surface area\n",
        "b=int(input('Enter b:'))\n",
        "surface_area=math.sqrt(3)*b*b\n",
        "print('surface area of regular tetrahedron is=',surface_area)"
      ],
      "metadata": {
        "id": "zutPy0N1w8Lg",
        "outputId": "c55e9860-b0f7-4d60-a5d5-0c3bc321821b",
        "colab": {
          "base_uri": "https://localhost:8080/"
        }
      },
      "execution_count": null,
      "outputs": [
        {
          "output_type": "stream",
          "name": "stdout",
          "text": [
            "Enter b:4\n",
            "volume of a regular tetrahedron is= 7.542472332656506\n",
            "Enter b:5\n",
            "surface area of regular tetrahedron is= 43.301270189221924\n"
          ]
        }
      ]
    },
    {
      "cell_type": "code",
      "source": [
        "#Pyramids volume\n",
        "a=int(input('Enter a:'))\n",
        "h=int(input('Enter b:'))\n",
        "volume=0.3*a*h?\n",
        "print('volume of a pyramid is=',volume)\n",
        "#Square pyramid surface area\n",
        "s=int(input('Enter s:'))\n",
        "h=int(input('Enter h:'))\n",
        "surface_area=(s*s)+(2*s*h)\n",
        "print('surface area of a square pyramid is=',surface_area)\n"
      ],
      "metadata": {
        "id": "acDrCQ7bzAS_",
        "outputId": "a9561ce0-e99a-4317-dfd6-891cc1841950",
        "colab": {
          "base_uri": "https://localhost:8080/"
        }
      },
      "execution_count": null,
      "outputs": [
        {
          "output_type": "stream",
          "name": "stdout",
          "text": [
            "Enter a:2\n",
            "Enter b:4\n",
            "volume of a pyramid is= 7.542472332656506\n",
            "Enter s:5\n",
            "Enter h:4\n",
            "surface area of a square pyramid is= 65\n"
          ]
        }
      ]
    },
    {
      "cell_type": "code",
      "source": [
        "#prims volume\n",
        "a=int(input('Enter a:'))\n",
        "h=int(input('Enter h:'))\n",
        "volume=a*h\n",
        "print('volume of a prism is=',volume)\n",
        "a=int(input('Enter a:'))\n",
        "h=int(input('Enter h'))\n",
        "p=int(input('Enter p:'))\n",
        "surface_area=2*a+(h*p)\n",
        "print('surface area of a prism is=',surface_area)"
      ],
      "metadata": {
        "id": "1lPMS6z80bzD",
        "outputId": "8771f0ff-ae12-403b-8e83-fe9890a9463b",
        "colab": {
          "base_uri": "https://localhost:8080/"
        }
      },
      "execution_count": null,
      "outputs": [
        {
          "output_type": "stream",
          "name": "stdout",
          "text": [
            "Enter a:5\n",
            "Enter h:8\n",
            "volume of a prism is= 40\n",
            "Enter a:6\n",
            "Enter h4\n",
            "Enter p:3\n",
            "surface area of a prism is= 24\n"
          ]
        }
      ]
    },
    {
      "cell_type": "code",
      "source": [
        "#Triangle prism volume\n",
        "l=int(input('Enter l:'))\n",
        "b=int(input('Enter b:'))\n",
        "h=int(input('Enter h:'))\n",
        "volume=l*b*h\n",
        "print('volume of a triangle prism is=',volume)\n",
        "#Triangle prism surface area\n",
        "l=int(input('Enter l:'))\n",
        "b=int(input('Enter b:'))\n",
        "h=int(input('Enter h:'))\n",
        "s=int(input('Enter s:'))\n",
        "surface_area=(b*h)+(2*1*s)+(1*b)\n",
        "print('surface area of a trangular prism is=',surface_area)"
      ],
      "metadata": {
        "id": "pa1APfhF2RuS",
        "outputId": "ee1d0265-9881-49fc-f8d8-1bd87b225b05",
        "colab": {
          "base_uri": "https://localhost:8080/"
        }
      },
      "execution_count": null,
      "outputs": [
        {
          "output_type": "stream",
          "name": "stdout",
          "text": [
            "Enter l:5\n",
            "Enter b:2\n",
            "Enter h:3\n",
            "volume of a triangle prism is= 30\n",
            "Enter l:2\n",
            "Enter b:3\n",
            "Enter h:4\n",
            "Enter s:5\n",
            "surface area of a triangle prism is = 25\n"
          ]
        }
      ]
    },
    {
      "cell_type": "code",
      "source": [
        "#Spheres volume\n",
        "n=int(input('Enter n:'))\n",
        "r=int(input('Enter r:'))\n",
        "volume=4/3*(n*r*r*r)\n",
        "print('volume of a sphere is=',volume)\n",
        "#Spheres surface area\n",
        "n=int(input('Enter n:'))\n",
        "r=int(input('Enter r:'))\n",
        "surface_area=4*n*r*r\n",
        "print('surface area of a spheres is=',surface_area)"
      ],
      "metadata": {
        "id": "JtdgXWJt4Tgu",
        "outputId": "fa3b4ed9-8c65-4e47-a090-232e82272a28",
        "colab": {
          "base_uri": "https://localhost:8080/"
        }
      },
      "execution_count": null,
      "outputs": [
        {
          "output_type": "stream",
          "name": "stdout",
          "text": [
            "Enter n:22\n",
            "Enter r:4\n",
            "volume of a sphere is= 1877.3333333333333\n",
            "Enter n:14\n",
            "Enter r:8\n",
            "surface area of a spheres is= 3584\n"
          ]
        }
      ]
    },
    {
      "cell_type": "code",
      "source": [],
      "metadata": {
        "id": "3IgCJMf97X6w"
      },
      "execution_count": null,
      "outputs": []
    },
    {
      "cell_type": "code",
      "source": [
        "#Right circular cone volume\n",
        "n=int(input('Enter n:'))\n",
        "r=int(input('Enter r:'))\n",
        "h=int(input('Enter h:'))\n",
        "volume=1/3*(n*r*r*h)\n",
        "print('volume of a triangular prism is=',volume)\n",
        "#Right circular cone surface area\n",
        "n=int(input('Enter n:'))\n",
        "r=int(input('Enter r:'))\n",
        "s=int(input('Enter s:'))\n",
        "surface_area=n*r*(r+s)\n",
        "print('surface area of right circular cone is=',surface_area)"
      ],
      "metadata": {
        "id": "qNlEpe7m6FTB",
        "outputId": "6ddbe6e4-ecb9-4e66-fe51-0e4d1fa7533f",
        "colab": {
          "base_uri": "https://localhost:8080/"
        }
      },
      "execution_count": null,
      "outputs": [
        {
          "output_type": "stream",
          "name": "stdout",
          "text": [
            "Enter n:3\n",
            "Enter r:3\n",
            "Enter h:5\n",
            "volume of a triangular prism is= 45.0\n",
            "Enter n:21\n",
            "Enter r:6\n",
            "Enter s:5\n",
            "surface area of right circular cone is= 1386\n"
          ]
        }
      ]
    },
    {
      "cell_type": "code",
      "source": [
        "#Right cylinder volume\n",
        "n=int(input('Enter n:'))\n",
        "r=int(input('Enter r:'))\n",
        "h=int(input('Enter h:'))\n",
        "volume=n*r*r*h\n",
        "print('volume of a right cylinder is=',volume)\n",
        "#Right cylinder surface area\n",
        "n=int(input('Enter n:'))\n",
        "r=int(input('Enter r:'))\n",
        "h=int(input('Enter h:'))\n",
        "surface_area=2*n*r*(r+h)\n",
        "print('surface area of a right cylinder is=',surface_area)"
      ],
      "metadata": {
        "id": "-2Bcyslo8RDc",
        "outputId": "99905937-5525-4021-c2d6-e840b9474f53",
        "colab": {
          "base_uri": "https://localhost:8080/"
        }
      },
      "execution_count": null,
      "outputs": [
        {
          "output_type": "stream",
          "name": "stdout",
          "text": [
            "Enter n:4\n",
            "Enter r:6\n",
            "Enter h:9\n",
            "volume of a right cylinder is= 1296\n",
            "Enter n:4\n",
            "Enter r:2\n",
            "Enter h:1\n",
            "surface area of a right cylinder is= 48\n"
          ]
        }
      ]
    },
    {
      "cell_type": "code",
      "source": [
        "#Swapping without using third variable\n",
        "x=34\n",
        "y=65\n",
        "print('after swapping')\n",
        "print('value of x:',y)\n",
        "print('value of y:',x)"
      ],
      "metadata": {
        "id": "ocgMoQFx-SE1",
        "outputId": "e80dab79-0544-4369-b1b4-fb064bbb495e",
        "colab": {
          "base_uri": "https://localhost:8080/"
        }
      },
      "execution_count": null,
      "outputs": [
        {
          "output_type": "stream",
          "name": "stdout",
          "text": [
            "after swapping\n",
            "value of x: 65\n",
            "value of y: 34\n"
          ]
        }
      ]
    },
    {
      "cell_type": "code",
      "source": [
        "#Swapping using third variable\n",
        "x=34\n",
        "y=65\n",
        "temp=x\n",
        "x=y\n",
        "y=temp\n",
        "print('After swapping')\n",
        "print('Value of x:',x)\n",
        "print('value of y:,y')"
      ],
      "metadata": {
        "id": "gYrhJiH4_A5v",
        "outputId": "af4f3401-9965-495a-bbd8-d3af48a1a148",
        "colab": {
          "base_uri": "https://localhost:8080/"
        }
      },
      "execution_count": null,
      "outputs": [
        {
          "output_type": "stream",
          "name": "stdout",
          "text": [
            "After swapping\n",
            "Value of x: 65\n",
            "value of y:,y\n"
          ]
        }
      ]
    },
    {
      "cell_type": "code",
      "source": [
        "#Reverse without using looping\n",
        "rev=0\n",
        "base=1;\n",
        "def reverse (num):\n",
        "  global rev\n",
        "  global base\n",
        " if(num > 0):\n",
        "  reverse((int)(num/10))\n",
        "  rev+=(num%10)*base\n",
        "  base*=10\n",
        "return rev\n",
        "num=1234567\n",
        "print(reverse(num))"
      ],
      "metadata": {
        "id": "iLApwxI4_yVP",
        "outputId": "21dde5bf-00a0-4beb-a924-5f388aeda743",
        "colab": {
          "base_uri": "https://localhost:8080/",
          "height": 106
        }
      },
      "execution_count": null,
      "outputs": [
        {
          "output_type": "error",
          "ename": "IndentationError",
          "evalue": "unindent does not match any outer indentation level (<tokenize>, line 7)",
          "traceback": [
            "\u001b[0;36m  File \u001b[0;32m\"<tokenize>\"\u001b[0;36m, line \u001b[0;32m7\u001b[0m\n\u001b[0;31m    if(num > 0):\u001b[0m\n\u001b[0m    ^\u001b[0m\n\u001b[0;31mIndentationError\u001b[0m\u001b[0;31m:\u001b[0m unindent does not match any outer indentation level\n"
          ]
        }
      ]
    },
    {
      "cell_type": "code",
      "source": [],
      "metadata": {
        "id": "zGkpUfjCptDl"
      },
      "execution_count": null,
      "outputs": []
    }
  ]
}